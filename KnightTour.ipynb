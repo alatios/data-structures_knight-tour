{
 "cells": [
  {
   "cell_type": "code",
   "execution_count": 85,
   "metadata": {},
   "outputs": [],
   "source": [
    "### KNIGHT ALLOWED MOVES (OFFSETS)\n",
    "allowedOffsetMoves = {(-2,-1),\n",
    "                      (-1,-2),\n",
    "                      (+1,-2),\n",
    "                      (+2,-1),\n",
    "                      (+2,+1),\n",
    "                      (+1,+2),\n",
    "                      (-1,+2),\n",
    "                      (-2,+1)\n",
    "}\n",
    "\n",
    "### SIX BASE STRUCTURED KNIGHT TOURS\n",
    "## Coords based on chess algebraic notation\n",
    "\n",
    "####### 6x6 #######\n",
    "##    # # # # # # 6\n",
    "##    # # # # # # 5\n",
    "##    # # # # # # 4\n",
    "##    + # # # # # 3\n",
    "##    # # # # # # 2\n",
    "##    # # # # # # 1\n",
    "##    1 2 3 4 5 6\n",
    "##\n",
    "##    Cell + is (1,3)\n",
    "\n",
    "path6x6 = {\n",
    "    (1,1): (2,3),\n",
    "    (2,3): (3,1),\n",
    "    (3,1): (1,2),\n",
    "    (1,2): (3,3),\n",
    "    (3,3): (5,2),\n",
    "    (5,2): (6,4),\n",
    "    (6,4): (5,6),\n",
    "    (5,6): (3,5),\n",
    "    (3,5): (1,6),\n",
    "    (1,6): (2,4),\n",
    "    (2,4): (4,3),\n",
    "    (4,3): (5,5),\n",
    "    (5,5): (3,6),\n",
    "    (3,6): (1,5),\n",
    "    (1,5): (3,4),\n",
    "    (3,4): (2,6),\n",
    "    (2,6): (1,4),\n",
    "    (1,4): (2,2),\n",
    "    (2,2): (4,1),\n",
    "    (4,1): (6,2),\n",
    "    (6,2): (5,4),\n",
    "    (5,4): (6,6),\n",
    "    (6,6): (4,5),\n",
    "    (4,5): (5,3),\n",
    "    (5,3): (6,1),\n",
    "    (6,1): (4,2),\n",
    "    (4,2): (2,1),\n",
    "    (2,1): (1,3),\n",
    "    (1,3): (2,5),\n",
    "    (2,5): (4,6),\n",
    "    (4,6): (6,5),\n",
    "    (6,5): (4,4),\n",
    "    (4,4): (6,3),\n",
    "    (6,3): (5,1),\n",
    "    (5,1): (3,2),\n",
    "    (3,2): (1,1)\n",
    "}"
   ]
  },
  {
   "cell_type": "code",
   "execution_count": 161,
   "metadata": {},
   "outputs": [],
   "source": [
    "class Chessboard:\n",
    "    \n",
    "    def __init__(self, rows, columns):\n",
    "        self.rows = rows\n",
    "        self.columns = columns\n",
    "        self.path = {}\n",
    "        \n",
    "    def SetPath(self, path):\n",
    "        self.path = path\n",
    "    \n",
    "    def GetPath(self):\n",
    "        return self.path\n",
    "    \n",
    "    def GetRows(self):\n",
    "        return self.rows\n",
    "    \n",
    "    def GetColumns(self):\n",
    "        return self.columns\n",
    "    \n",
    "    def FindPath(self):\n",
    "        if((self.GetRows() == 6) and (self.GetColumns() == 6)):\n",
    "            self.SetPath(path6x6)\n",
    "            return\n",
    "        \n",
    "        topLeftBoard = Chessboard(self.GetRows()/2, self.GetColumns()/2)\n",
    "        topRightBoard = Chessboard(self.GetRows()/2, self.GetColumns()/2)\n",
    "        bottomLeftBoard = Chessboard(self.GetRows()/2, self.GetColumns()/2)\n",
    "        bottomRightBoard = Chessboard(self.GetRows()/2, self.GetColumns()/2)\n",
    "        \n",
    "        topLeftBoard.FindPath()\n",
    "        topRightBoard.FindPath()\n",
    "        bottomLeftBoard.FindPath()\n",
    "        bottomRightBoard.FindPath()\n",
    "        \n",
    "        ## Build path from bottom left, makes sense for coordinates\n",
    "        bottomRightPath = bottomRightBoard.GetPath()\n",
    "        topLeftPath = topLeftBoard.GetPath()\n",
    "        topRightPath = topRightBoard.GetPath()\n",
    "        \n",
    "        newBottomLeftPath = bottomLeftBoard.GetPath()\n",
    "        newBottomRightPath = {}\n",
    "        newTopLeftPath = {}\n",
    "        newTopRightPath = {}\n",
    "        \n",
    "        for position in bottomRightPath:\n",
    "            newPosition = tuple(map(lambda i, j: i + j, position, (6,0)))\n",
    "            newNextStep = tuple(map(lambda i, j: i + j, bottomRightPath[position], (6,0)))\n",
    "            newBottomRightPath[newPosition] = newNextStep\n",
    "        \n",
    "        for position in topLeftPath:\n",
    "            newPosition = tuple(map(lambda i, j: i + j, position, (0,6)))\n",
    "            newNextStep = tuple(map(lambda i, j: i + j, topLeftPath[position], (0,6)))\n",
    "            newTopLeftPath[newPosition] = newNextStep\n",
    "        \n",
    "        ## This one needs to be inverted... for topology or something\n",
    "        for position in topRightPath:\n",
    "            newPosition = tuple(map(lambda i, j: i + j, position, (6,6)))\n",
    "            newNextStep = tuple(map(lambda i, j: i + j, topRightPath[position], (6,6)))\n",
    "            #newTopRightPath[newPosition] = newNextStep\n",
    "            newTopRightPath[newNextStep] = newPosition\n",
    "        \n",
    "        ## Fix the edges\n",
    "        newBottomLeftPath[(5,4)] = (7,5)\n",
    "        newBottomRightPath[(9,6)] = (7,7)\n",
    "        newTopRightPath[(8,9)] = (6,8)\n",
    "        newTopLeftPath[(4,7)] = (6,6)\n",
    "        \n",
    "        newCompletePath = {**newBottomLeftPath, **newBottomRightPath, **newTopLeftPath, **newTopRightPath}\n",
    "        self.SetPath(newCompletePath)\n",
    "        return\n",
    "    \n",
    "    ## Check if path covers every square exactly once without breaking\n",
    "    def PathIsATour(self):\n",
    "        nextStep = self.GetPath()\n",
    "        startingPosition = (1,1)\n",
    "        currentPosition = nextStep[startingPosition]\n",
    "        \n",
    "        visitedPositions = {startingPosition: True}\n",
    "        \n",
    "        while currentPosition != startingPosition:\n",
    "            if currentPosition in visitedPositions:\n",
    "                print(\"ERROR: position\", currentPosition, \"was already visited before returning to\", startingPosition, \".\")\n",
    "                return False\n",
    "            \n",
    "            visitedPositions[currentPosition] = True\n",
    "            currentPosition = nextStep[currentPosition]\n",
    "        \n",
    "        if len(visitedPositions) != self.GetRows() * self.GetColumns():\n",
    "            print(\"ERROR: \", len(visitedPositions), \"visited positions, but\", self.GetRows() * self.GetColumns(), \"squares on the board.\")\n",
    "            return False\n",
    "        \n",
    "        return True\n",
    "    \n",
    "    ## Check if all moves in the path can be performed by a knight\n",
    "    def PathIsLegal(self):\n",
    "        isLegal = True\n",
    "        nextStep = self.GetPath()\n",
    "        \n",
    "        for position in nextStep:\n",
    "            isLegal *= (tuple(map(lambda i, j: i - j, nextStep[position], position)) in allowedOffsetMoves)\n",
    "        \n",
    "        return bool(isLegal)\n",
    "        \n",
    "    \n",
    "    ## Check if path is structured\n",
    "    #def PathIsStructured(self):\n",
    "    \n",
    "    ## Check if path is closed\n",
    "    #def PathIsClosed(self):\n",
    "    \n",
    "    ## Combine all previous checks\n",
    "    #def PathIsAClosedStructuredTour(self):"
   ]
  },
  {
   "cell_type": "code",
   "execution_count": 165,
   "metadata": {},
   "outputs": [
    {
     "data": {
      "text/plain": [
       "{}"
      ]
     },
     "execution_count": 165,
     "metadata": {},
     "output_type": "execute_result"
    }
   ],
   "source": [
    "board = Chessboard(12,12)\n",
    "#board.SetPath(path6x6)\n",
    "board.GetPath()"
   ]
  },
  {
   "cell_type": "code",
   "execution_count": 166,
   "metadata": {},
   "outputs": [
    {
     "name": "stdout",
     "output_type": "stream",
     "text": [
      "12\n",
      "12\n"
     ]
    }
   ],
   "source": [
    "print(board.GetRows())\n",
    "print(board.GetColumns())"
   ]
  },
  {
   "cell_type": "code",
   "execution_count": 167,
   "metadata": {},
   "outputs": [
    {
     "name": "stdout",
     "output_type": "stream",
     "text": [
      "{(1, 1): (2, 3), (2, 3): (3, 1), (3, 1): (1, 2), (1, 2): (3, 3), (3, 3): (5, 2), (5, 2): (6, 4), (6, 4): (5, 6), (5, 6): (3, 5), (3, 5): (1, 6), (1, 6): (2, 4), (2, 4): (4, 3), (4, 3): (5, 5), (5, 5): (3, 6), (3, 6): (1, 5), (1, 5): (3, 4), (3, 4): (2, 6), (2, 6): (1, 4), (1, 4): (2, 2), (2, 2): (4, 1), (4, 1): (6, 2), (6, 2): (5, 4), (5, 4): (7, 5), (6, 6): (4, 5), (4, 5): (5, 3), (5, 3): (6, 1), (6, 1): (4, 2), (4, 2): (2, 1), (2, 1): (1, 3), (1, 3): (2, 5), (2, 5): (4, 6), (4, 6): (6, 5), (6, 5): (4, 4), (4, 4): (6, 3), (6, 3): (5, 1), (5, 1): (3, 2), (3, 2): (1, 1), (7, 1): (8, 3), (8, 3): (9, 1), (9, 1): (7, 2), (7, 2): (9, 3), (9, 3): (11, 2), (11, 2): (12, 4), (12, 4): (11, 6), (11, 6): (9, 5), (9, 5): (7, 6), (7, 6): (8, 4), (8, 4): (10, 3), (10, 3): (11, 5), (11, 5): (9, 6), (9, 6): (7, 7), (7, 5): (9, 4), (9, 4): (8, 6), (8, 6): (7, 4), (7, 4): (8, 2), (8, 2): (10, 1), (10, 1): (12, 2), (12, 2): (11, 4), (11, 4): (12, 6), (12, 6): (10, 5), (10, 5): (11, 3), (11, 3): (12, 1), (12, 1): (10, 2), (10, 2): (8, 1), (8, 1): (7, 3), (7, 3): (8, 5), (8, 5): (10, 6), (10, 6): (12, 5), (12, 5): (10, 4), (10, 4): (12, 3), (12, 3): (11, 1), (11, 1): (9, 2), (9, 2): (7, 1), (1, 7): (2, 9), (2, 9): (3, 7), (3, 7): (1, 8), (1, 8): (3, 9), (3, 9): (5, 8), (5, 8): (6, 10), (6, 10): (5, 12), (5, 12): (3, 11), (3, 11): (1, 12), (1, 12): (2, 10), (2, 10): (4, 9), (4, 9): (5, 11), (5, 11): (3, 12), (3, 12): (1, 11), (1, 11): (3, 10), (3, 10): (2, 12), (2, 12): (1, 10), (1, 10): (2, 8), (2, 8): (4, 7), (4, 7): (6, 6), (6, 8): (5, 10), (5, 10): (6, 12), (6, 12): (4, 11), (4, 11): (5, 9), (5, 9): (6, 7), (6, 7): (4, 8), (4, 8): (2, 7), (2, 7): (1, 9), (1, 9): (2, 11), (2, 11): (4, 12), (4, 12): (6, 11), (6, 11): (4, 10), (4, 10): (6, 9), (6, 9): (5, 7), (5, 7): (3, 8), (3, 8): (1, 7), (8, 9): (6, 8), (9, 7): (8, 9), (7, 8): (9, 7), (9, 9): (7, 8), (11, 8): (9, 9), (12, 10): (11, 8), (11, 12): (12, 10), (9, 11): (11, 12), (7, 12): (9, 11), (8, 10): (7, 12), (10, 9): (8, 10), (11, 11): (10, 9), (9, 12): (11, 11), (7, 11): (9, 12), (9, 10): (7, 11), (8, 12): (9, 10), (7, 10): (8, 12), (8, 8): (7, 10), (10, 7): (8, 8), (12, 8): (10, 7), (11, 10): (12, 8), (12, 12): (11, 10), (10, 11): (12, 12), (11, 9): (10, 11), (12, 7): (11, 9), (10, 8): (12, 7), (8, 7): (10, 8), (7, 9): (8, 7), (8, 11): (7, 9), (10, 12): (8, 11), (12, 11): (10, 12), (10, 10): (12, 11), (12, 9): (10, 10), (11, 7): (12, 9), (9, 8): (11, 7), (7, 7): (9, 8)}\n",
      "True\n",
      "True\n"
     ]
    }
   ],
   "source": [
    "board.FindPath()\n",
    "print(board.GetPath())\n",
    "print(board.PathIsATour())\n",
    "print(board.PathIsLegal())"
   ]
  },
  {
   "cell_type": "code",
   "execution_count": 156,
   "metadata": {},
   "outputs": [
    {
     "name": "stdout",
     "output_type": "stream",
     "text": [
      "(4, 1) -> (6, 2)\n",
      "(6, 2) -> (5, 4)\n",
      "\n",
      "(1, 1) -> (2, 3)\n",
      "(2, 3) -> (3, 1)\n",
      "\n",
      "(5, 4) -> (6, 6)\n",
      "(6, 6) -> (4, 5)\n",
      "\n",
      "(3, 6) -> (1, 5)\n",
      "(1, 5) -> (3, 4)\n"
     ]
    }
   ],
   "source": [
    "print((4,1), \"->\", path6x6[(4,1)])\n",
    "print(path6x6[(4,1)], \"->\", path6x6[path6x6[(4,1)]])\n",
    "print()\n",
    "print((1,1), \"->\", path6x6[(1,1)])\n",
    "print(path6x6[(1,1)], \"->\", path6x6[path6x6[(1,1)]])\n",
    "print()\n",
    "print((5,4), \"->\", path6x6[(5,4)])\n",
    "print(path6x6[(5,4)], \"->\", path6x6[path6x6[(5,4)]])\n",
    "print()\n",
    "print((3,6), \"->\", path6x6[(3,6)])\n",
    "print(path6x6[(3,6)], \"->\", path6x6[path6x6[(3,6)]])"
   ]
  },
  {
   "cell_type": "code",
   "execution_count": 90,
   "metadata": {},
   "outputs": [],
   "source": [
    "## Next steps:\n",
    "# 1. Implementa i check mancanti\n",
    "# 2. Aggiusta l'algoritmo perché funzioni anche con quadrati più grossi (sempre a potenze di 6)"
   ]
  },
  {
   "cell_type": "code",
   "execution_count": 91,
   "metadata": {},
   "outputs": [
    {
     "ename": "TypeError",
     "evalue": "can only concatenate tuple (not \"int\") to tuple",
     "output_type": "error",
     "traceback": [
      "\u001b[1;31m---------------------------------------------------------------------------\u001b[0m",
      "\u001b[1;31mTypeError\u001b[0m                                 Traceback (most recent call last)",
      "\u001b[1;32m<ipython-input-91-2e4c50cf8f32>\u001b[0m in \u001b[0;36m<module>\u001b[1;34m\u001b[0m\n\u001b[1;32m----> 1\u001b[1;33m \u001b[1;33m(\u001b[0m\u001b[1;36m1\u001b[0m\u001b[1;33m,\u001b[0m\u001b[1;36m2\u001b[0m\u001b[1;33m)\u001b[0m\u001b[1;33m+\u001b[0m\u001b[1;36m2\u001b[0m\u001b[1;33m\u001b[0m\u001b[1;33m\u001b[0m\u001b[0m\n\u001b[0m",
      "\u001b[1;31mTypeError\u001b[0m: can only concatenate tuple (not \"int\") to tuple"
     ]
    }
   ],
   "source": [
    "(1,2)+2"
   ]
  },
  {
   "cell_type": "code",
   "execution_count": 96,
   "metadata": {},
   "outputs": [
    {
     "data": {
      "text/plain": [
       "(1, 1, 6, 0)"
      ]
     },
     "execution_count": 96,
     "metadata": {},
     "output_type": "execute_result"
    }
   ],
   "source": [
    "(1,1)+(6,0)"
   ]
  },
  {
   "cell_type": "code",
   "execution_count": 160,
   "metadata": {},
   "outputs": [
    {
     "data": {
      "text/plain": [
       "True"
      ]
     },
     "execution_count": 160,
     "metadata": {},
     "output_type": "execute_result"
    }
   ],
   "source": [
    "2 in {2,3}"
   ]
  },
  {
   "cell_type": "code",
   "execution_count": null,
   "metadata": {},
   "outputs": [],
   "source": []
  }
 ],
 "metadata": {
  "kernelspec": {
   "display_name": "Python 3",
   "language": "python",
   "name": "python3"
  },
  "language_info": {
   "codemirror_mode": {
    "name": "ipython",
    "version": 3
   },
   "file_extension": ".py",
   "mimetype": "text/x-python",
   "name": "python",
   "nbconvert_exporter": "python",
   "pygments_lexer": "ipython3",
   "version": "3.8.5"
  }
 },
 "nbformat": 4,
 "nbformat_minor": 4
}
